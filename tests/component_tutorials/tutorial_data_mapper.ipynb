{
 "cells": [
  {
   "cell_type": "markdown",
   "metadata": {},
   "source": [
    "## Load Exported R Data"
   ]
  },
  {
   "cell_type": "code",
   "execution_count": null,
   "metadata": {},
   "outputs": [],
   "source": [
    "import sys\n",
    "import pandas as pd\n",
    "import numpy as np\n",
    "from typing import Dict, Any\n",
    "\n",
    "# Add Robyn to path\n",
    "sys.path.append(\"/Users/yijuilee/robynpy_release_reviews/Robyn/python/src\")\n",
    "\n",
    "# Import necessary Robyn classes\n",
    "from robyn.data.entities.mmmdata import MMMData\n",
    "from robyn.modeling.entities.modeloutputs import ModelOutputs\n",
    "from robyn.data.entities.hyperparameters import Hyperparameters\n",
    "from robyn.modeling.pareto.pareto_optimizer import ParetoResult\n",
    "from utils.data_mapper import (\n",
    "    load_data_from_json,\n",
    "    import_input_collect,\n",
    "    import_output_collect,\n",
    "    import_output_models,\n",
    ")"
   ]
  },
  {
   "cell_type": "markdown",
   "metadata": {},
   "source": [
    "## Export Json data on R notebooks"
   ]
  },
  {
   "cell_type": "code",
   "execution_count": null,
   "metadata": {},
   "outputs": [],
   "source": [
    "# import json\n",
    "\n",
    "# # Specify the paths where you want to save the JSON files\n",
    "# input_collect_path = (\n",
    "#     \"/Users/yijuilee/project_robyn/original/Robyn_original_2/Robyn/robyn_api/data/Allocator_InputCollect.json\"\n",
    "# )\n",
    "# output_models_path = (\n",
    "#     \"/Users/yijuilee/project_robyn/original/Robyn_original_2/Robyn/robyn_api/data/Allocator_OutputModels.json\"\n",
    "# )\n",
    "# output_collect_path = (\n",
    "#     \"/Users/yijuilee/project_robyn/original/Robyn_original_2/Robyn/robyn_api/data/Allocator_OutputCollect.json\"\n",
    "# )\n",
    "# # Save each component to a separate JSON file\n",
    "# with open(input_collect_path, \"w\") as f:\n",
    "#     json.dump(InputCollect, f)\n",
    "# with open(output_models_path, \"w\") as f:\n",
    "#     json.dump(OutputModels, f)\n",
    "# with open(output_collect_path, \"w\") as f:\n",
    "#     json.dump(OutputCollect, f)\n",
    "# print(f\"InputCollect exported successfully to {input_collect_path}\")\n",
    "# print(f\"OutputModels exported successfully to {output_models_path}\")\n",
    "# print(f\"OutputCollect exported successfully to {output_collect_path}\")"
   ]
  },
  {
   "cell_type": "markdown",
   "metadata": {},
   "source": [
    "## Load json data.\n",
    "* InputCollect\n",
    "* OutputModels\n",
    "* outputsArgs"
   ]
  },
  {
   "cell_type": "code",
   "execution_count": null,
   "metadata": {},
   "outputs": [],
   "source": [
    "# Load data from JSON exported from R\n",
    "raw_input_collect = load_data_from_json(\n",
    "    \"/Users/yijuilee/robynpy_release_reviews/Robyn/python/src/tutorials/data/Allocator_InputCollect.json\"\n",
    ")\n",
    "raw_output_collect = load_data_from_json(\n",
    "    \"/Users/yijuilee/robynpy_release_reviews/Robyn/python/src/tutorials/data/Allocator_OutputCollect.json\"\n",
    ")\n",
    "raw_output_models = load_data_from_json(\n",
    "    \"/Users/yijuilee/robynpy_release_reviews/Robyn/python/src/tutorials/data/Allocator_OutputModels.json\"\n",
    ")\n",
    "\n",
    "# Convert R data to Python objects\n",
    "r_input_collect = import_input_collect(raw_input_collect)\n",
    "r_output_collect = import_output_collect(raw_output_collect)\n",
    "python_model_outputs = import_output_models(raw_output_models)"
   ]
  },
  {
   "cell_type": "markdown",
   "metadata": {},
   "source": [
    "## InputCollect"
   ]
  },
  {
   "cell_type": "code",
   "execution_count": null,
   "metadata": {},
   "outputs": [],
   "source": [
    "# Extract individual components\n",
    "mmm_data = r_input_collect[\"mmm_data\"]\n",
    "featurized_mmm_data = r_input_collect[\"featurized_mmm_data\"]\n",
    "holidays_data = r_input_collect[\"holidays_data\"]\n",
    "hyperparameters = r_input_collect[\"hyperparameters\"]"
   ]
  },
  {
   "cell_type": "markdown",
   "metadata": {},
   "source": [
    "## Output Collect"
   ]
  },
  {
   "cell_type": "code",
   "execution_count": null,
   "metadata": {},
   "outputs": [],
   "source": [
    "pareto_results = r_output_collect[\"pareto_result\"]\n",
    "\n",
    "cluster_data = r_output_collect[\"cluster_data\"]"
   ]
  },
  {
   "cell_type": "code",
   "execution_count": null,
   "metadata": {},
   "outputs": [],
   "source": [
    "pareto_results"
   ]
  },
  {
   "cell_type": "code",
   "execution_count": null,
   "metadata": {},
   "outputs": [],
   "source": [
    "display(pareto_results.pareto_fronts)\n",
    "\n",
    "display(pareto_results.x_decomp_agg)"
   ]
  },
  {
   "cell_type": "markdown",
   "metadata": {},
   "source": [
    "## ModelOutputs"
   ]
  },
  {
   "cell_type": "code",
   "execution_count": null,
   "metadata": {},
   "outputs": [],
   "source": [
    "model_outputs = python_model_outputs"
   ]
  },
  {
   "cell_type": "code",
   "execution_count": null,
   "metadata": {},
   "outputs": [],
   "source": [
    "print(cluster_data)"
   ]
  },
  {
   "cell_type": "code",
   "execution_count": null,
   "metadata": {},
   "outputs": [],
   "source": [
    "print(cluster_data.cluster_ci)"
   ]
  },
  {
   "cell_type": "code",
   "execution_count": null,
   "metadata": {},
   "outputs": [],
   "source": [
    "display(cluster_data.n_clusters)"
   ]
  },
  {
   "cell_type": "code",
   "execution_count": null,
   "metadata": {},
   "outputs": [],
   "source": [
    "display(cluster_data.clusters_pca)"
   ]
  },
  {
   "cell_type": "code",
   "execution_count": null,
   "metadata": {},
   "outputs": [],
   "source": [
    "display(cluster_data.clusters_tsne)"
   ]
  },
  {
   "cell_type": "code",
   "execution_count": null,
   "metadata": {},
   "outputs": [],
   "source": [
    "print(pareto_results.plot_data_collect.keys())"
   ]
  },
  {
   "cell_type": "code",
   "execution_count": null,
   "metadata": {},
   "outputs": [],
   "source": [
    "# Get plot data for a specific model\n",
    "model_id = list(pareto_results.plot_data_collect.keys())[3]\n",
    "model_plots = pareto_results.plot_data_collect[model_id]\n",
    "\n",
    "# Access plot1data (Media share comparison)\n",
    "media_share_data = model_plots[\"plot1data\"]\n",
    "bar_data = media_share_data[\"plotMediaShareLoopBar\"]\n",
    "line_data = media_share_data[\"plotMediaShareLoopLine\"]\n",
    "scale = media_share_data[\"ySecScale\"]\n",
    "\n",
    "# Access plot2data (Waterfall)\n",
    "waterfall_data = model_plots[\"plot2data\"][\"plotWaterfallLoop\"]"
   ]
  },
  {
   "cell_type": "code",
   "execution_count": null,
   "metadata": {},
   "outputs": [],
   "source": [
    "print(model_id)\n",
    "print(model_plots.keys())\n",
    "\n",
    "for key in model_plots.keys():\n",
    "    print(\"This Key: \", key)\n",
    "    print(\"Has these keys: \", model_plots[key].keys())"
   ]
  },
  {
   "cell_type": "code",
   "execution_count": null,
   "metadata": {},
   "outputs": [],
   "source": []
  }
 ],
 "metadata": {
  "kernelspec": {
   "display_name": "mytestenv",
   "language": "python",
   "name": "python3"
  },
  "language_info": {
   "codemirror_mode": {
    "name": "ipython",
    "version": 3
   },
   "file_extension": ".py",
   "mimetype": "text/x-python",
   "name": "python",
   "nbconvert_exporter": "python",
   "pygments_lexer": "ipython3",
   "version": "3.9.6"
  }
 },
 "nbformat": 4,
 "nbformat_minor": 2
}
